{
 "cells": [
  {
   "cell_type": "markdown",
   "metadata": {
    "pycharm": {
     "name": "#%% md\n"
    }
   },
   "source": [
    "<P> <img src=\"https://i.ibb.co/gyNf19D/nhslogo.png\" alt=\"nhslogo\" border=\"0\" width=\"100\" align=\"right\"><font size=\"6\"><b> CS6131 Database Design</b> </font>"
   ]
  },
  {
   "cell_type": "markdown",
   "metadata": {
    "pycharm": {
     "name": "#%% md\n"
    }
   },
   "source": [
    "# Project Design Phase Report Submission"
   ]
  },
  {
   "cell_type": "markdown",
   "metadata": {
    "pycharm": {
     "name": "#%% md\n"
    }
   },
   "source": [
    "### By Qiu Ziming"
   ]
  },
  {
   "cell_type": "markdown",
   "metadata": {
    "pycharm": {
     "name": "#%% md\n"
    }
   },
   "source": [
    "### Submission Instructions"
   ]
  },
  {
   "cell_type": "markdown",
   "metadata": {
    "pycharm": {
     "name": "#%% md\n"
    }
   },
   "source": [
    "<div class=\"alert alert-block alert-info\">\n",
    "\n",
    "* You will need to submit the following files in your final project submission:\n",
    "    * Your Jupyter Notebook report. Name the report `ProjectDesignReport<YourName>.ipynb`.\n",
    "    * All relevant image files to be displayed in this report (make sure you use relative file referencing and the image will display in another computer).\n",
    "    * Attached each file one by one and upload on Coursemology.\n",
    "* Please print a copy of the final report to OneNote Individual Notebook space > Project. Double check on the image resolution. If the resolution is poor, please copy and paste the ORIGINAL clear image into the OneNote page (paste at the side of the printed image).\n",
    "\n",
    "* Any submission that fails to comply to the above instructions will result in upto 5% penalty.\n",
    "\n",
    "* You may wish to refer to the following reference to help organize and \"beautify\" your final report here. <br>\n",
    "https://thecodingbot.com/markdown-in-jupyter-ipython-notebook-cheatsheet/\n",
    "</div>"
   ]
  },
  {
   "cell_type": "markdown",
   "metadata": {
    "pycharm": {
     "name": "#%% md\n"
    }
   },
   "source": [
    "### Section A: Overview & Business Rules"
   ]
  },
  {
   "cell_type": "markdown",
   "metadata": {
    "pycharm": {
     "name": "#%% md\n"
    }
   },
   "source": [
    "### Overview"
   ]
  },
  {
   "cell_type": "markdown",
   "metadata": {
    "pycharm": {
     "name": "#%% md\n"
    }
   },
   "source": [
    "<div class=\"alert alert-block alert-warning\">\n",
    "Give a short background of your proposed domain, and why a RDBMS system is appropriate.\n",
    "</div>\n"
   ]
  },
  {
   "cell_type": "markdown",
   "source": [
    "The legal scene is often seen as unapproachable by the lay-man due to the extremely formal language used and complicated protocols. It also does not help that information about different aspects of law (such as lawyers, previous cases or courts) are stored in different places, making it difficult to educate oneself about the law.\n",
    "\n",
    "Inspired by a project by my juniors on using AI to classify law documents, I would like to create a database that stores all relevant documents to the legal scene in one combined database, allowing people to easily look up information about some legal issues that they are facing."
   ],
   "metadata": {
    "collapsed": false,
    "pycharm": {
     "name": "#%% md\n"
    }
   }
  },
  {
   "cell_type": "markdown",
   "metadata": {
    "pycharm": {
     "name": "#%% md\n"
    }
   },
   "source": [
    "### Business Rules"
   ]
  },
  {
   "cell_type": "markdown",
   "metadata": {
    "pycharm": {
     "name": "#%% md\n"
    }
   },
   "source": [
    "<div class=\"alert alert-block alert-warning\">\n",
    "Complete your writeup of the final business rules here. The business rules writeup should be AS CLEAR AS possible. Someone reading your writeup should be able to clearly model a similar ER you have proposed in Section B.\n",
    "</div>\n"
   ]
  },
  {
   "cell_type": "markdown",
   "metadata": {
    "pycharm": {
     "name": "#%% md\n"
    }
   },
   "source": [
    "The database would store information about **<u>acts</u>**, which are split into their **<u>sections</u>**, **<u> law firms </u>**, **<u>lawyers</u>**, past **<u>cases</u>**, **<u>courts</u>** and **<u>judges</u>**.\n",
    "\n",
    "The most important information in the legal scene is obviously the laws themselves, which would be stored in the database as **<u>sections</u>**. In Singapore, there are 3 main **types** of formal written law namely the constitution, legislation and subsidiary legislation, in that order of priority. Each legal section is uniquely identified by the **<u>act</u>** it is ***part of***, along with its **section number**.\n",
    "\n",
    "Legal acts and sections both have the **date when they were passed**, the **date of last amendment** and the **date of commencement**. In addition, acts have **titles** and **summaries**.\n",
    "\n",
    "Sections contain the main **text** of the law, as well as the **fields** that they are related to.\n",
    "\n",
    "Past **<u>cases</u>** form the unwritten, but still binding, part of Singaporean law. Cases are ***decided*** by **<u>courts</u>** with a set of ***presiding*** **<u>judges</u>** at a certain **date**. Cases are ***litigated*** by **<u>lawyers</u>**, and have **fields** its related to. Judges may ***reference*** laws and past cases when deciding a case.\n",
    "\n",
    "Courts are the organisations that decide the outcome of cases. Since there are very few courts in Singapore, they can be uniquely identified by **name**. Each court has its **address**, **website** and **phone number**. Each court also has a panel of ***current judges***.\n",
    "\n",
    "Judges preside over cases in Singapore. Since there aren't many judges in Singapore, it's reasonable to assume they can be uniquely identified by **name**. Each judge has a **phone** number as well as a **job title**.\n",
    "\n",
    "Lawyers ***belong*** to a **<u>law firm</u>** and can be identified by their **name**, along with the law firm's **name**. Lawyers and law firms each have their own **phone number**, **email address** and **specialisation**. The **addresses** of law firms are also stored."
   ]
  },
  {
   "cell_type": "markdown",
   "metadata": {
    "pycharm": {
     "name": "#%% md\n"
    }
   },
   "source": [
    "### Section B: ER Model"
   ]
  },
  {
   "cell_type": "markdown",
   "metadata": {
    "pycharm": {
     "name": "#%% md\n"
    }
   },
   "source": [
    "<div class=\"alert alert-block alert-warning\">\n",
    "Attached the image of your ER Model here.\n",
    "</div>\n"
   ]
  },
  {
   "cell_type": "markdown",
   "metadata": {
    "pycharm": {
     "name": "#%% md\n"
    }
   },
   "source": [
    "<img src=\"CS6131ProjectER.png\">"
   ]
  },
  {
   "cell_type": "markdown",
   "metadata": {
    "pycharm": {
     "name": "#%% md\n"
    }
   },
   "source": [
    "### Section C: Relational Model"
   ]
  },
  {
   "cell_type": "markdown",
   "metadata": {
    "pycharm": {
     "name": "#%% md\n"
    }
   },
   "source": [
    "<div class=\"alert alert-block alert-warning\">\n",
    "Attached the image of your Relational Model here. You should use Box-Style notation only. All foregin keys must be properly indicated.\n",
    "</div>\n"
   ]
  },
  {
   "cell_type": "markdown",
   "metadata": {
    "pycharm": {
     "name": "#%% md\n"
    }
   },
   "source": [
    "<img src=\"CS6131ProjectTables.png\">"
   ]
  },
  {
   "cell_type": "markdown",
   "metadata": {
    "pycharm": {
     "name": "#%% md\n"
    }
   },
   "source": [
    "<div class=\"alert alert-block alert-warning\">\n",
    "Justify your mapping strategy from ER to relational, particularly if the approach deviates from the norm, or you have inheritance in your ER model (i.e. which strategy is adopted for inheritance mapping and why).\n",
    "</div>\n"
   ]
  },
  {
   "cell_type": "markdown",
   "metadata": {
    "pycharm": {
     "name": "#%% md\n"
    }
   },
   "source": [
    "The Hears relation is mapped into the Case table itself, since also cases must be heard by one court.\n",
    "\n",
    "The Case self-reference is mapped to a separate table since using the same table as Case will cause data duplication with the Hears relation.\n",
    "\n",
    "The Case-Section Reference, Presides and Litigates relations are mapped using separate tables since they are many to many relations.\n",
    "\n",
    "The Current Judges relation is mapped as a separate table since it's a many to many relation."
   ]
  },
  {
   "cell_type": "markdown",
   "metadata": {
    "pycharm": {
     "name": "#%% md\n"
    }
   },
   "source": [
    "<div class=\"alert alert-block alert-warning\">\n",
    "If the relational schema mapped from the ER is not in 3NF, propose relevant normalization to make all relations in 3NF. You may leave this part blank if no further normalization is required.\n",
    "</div>\n"
   ]
  },
  {
   "cell_type": "markdown",
   "metadata": {
    "pycharm": {
     "name": "#%% md\n"
    }
   },
   "source": [
    "Proposed normalization, if any"
   ]
  },
  {
   "cell_type": "markdown",
   "metadata": {
    "slideshow": {
     "slide_type": "skip"
    },
    "pycharm": {
     "name": "#%% md\n"
    }
   },
   "source": [
    "<hr>\n",
    "© NUS High School of Math & Science"
   ]
  },
  {
   "cell_type": "code",
   "execution_count": null,
   "outputs": [],
   "source": [],
   "metadata": {
    "collapsed": false,
    "pycharm": {
     "name": "#%%\n"
    }
   }
  }
 ],
 "metadata": {
  "kernelspec": {
   "display_name": "Python 3 (ipykernel)",
   "language": "python",
   "name": "python3"
  },
  "language_info": {
   "codemirror_mode": {
    "name": "ipython",
    "version": 3
   },
   "file_extension": ".py",
   "mimetype": "text/x-python",
   "name": "python",
   "nbconvert_exporter": "python",
   "pygments_lexer": "ipython3",
   "version": "3.9.13"
  }
 },
 "nbformat": 4,
 "nbformat_minor": 4
}